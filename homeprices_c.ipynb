{
 "cells": [
  {
   "cell_type": "code",
   "execution_count": 192,
   "metadata": {},
   "outputs": [],
   "source": [
    "import pandas as pd\n",
    "import numpy as np\n",
    "from scipy import stats\n",
    "from sklearn.ensemble import RandomForestRegressor\n",
    "from sklearn.linear_model import LinearRegression, Lasso\n",
    "from sklearn.neighbors import KNeighborsRegressor\n",
    "from sklearn.model_selection import train_test_split\n",
    "from sklearn.preprocessing import OneHotEncoder, StandardScaler\n",
    "import seaborn as sns\n",
    "import matplotlib.pyplot as plt\n"
   ]
  },
  {
   "cell_type": "code",
   "execution_count": 117,
   "metadata": {},
   "outputs": [],
   "source": [
    "df = pd.read_csv('new_homes_OH_MI_NY_Current_10yr.csv')"
   ]
  },
  {
   "cell_type": "code",
   "execution_count": 4,
   "metadata": {},
   "outputs": [
    {
     "data": {
      "text/html": [
       "<div>\n",
       "<style scoped>\n",
       "    .dataframe tbody tr th:only-of-type {\n",
       "        vertical-align: middle;\n",
       "    }\n",
       "\n",
       "    .dataframe tbody tr th {\n",
       "        vertical-align: top;\n",
       "    }\n",
       "\n",
       "    .dataframe thead th {\n",
       "        text-align: right;\n",
       "    }\n",
       "</style>\n",
       "<table border=\"1\" class=\"dataframe\">\n",
       "  <thead>\n",
       "    <tr style=\"text-align: right;\">\n",
       "      <th></th>\n",
       "      <th>id</th>\n",
       "      <th>pid</th>\n",
       "      <th>pid2</th>\n",
       "      <th>fname</th>\n",
       "      <th>mname</th>\n",
       "      <th>lname</th>\n",
       "      <th>suffix</th>\n",
       "      <th>fname2</th>\n",
       "      <th>mname2</th>\n",
       "      <th>lname2</th>\n",
       "      <th>...</th>\n",
       "      <th>hhid</th>\n",
       "      <th>hhid2</th>\n",
       "      <th>internal2</th>\n",
       "      <th>internal3</th>\n",
       "      <th>internal4</th>\n",
       "      <th>internal5</th>\n",
       "      <th>rcd_key</th>\n",
       "      <th>yyyy</th>\n",
       "      <th>mm</th>\n",
       "      <th>infutorstate</th>\n",
       "    </tr>\n",
       "  </thead>\n",
       "  <tbody>\n",
       "    <tr>\n",
       "      <th>0</th>\n",
       "      <td>37419674</td>\n",
       "      <td>Y39394865072945</td>\n",
       "      <td>Y39394865935440</td>\n",
       "      <td>RORY</td>\n",
       "      <td>L</td>\n",
       "      <td>HUMPHREY</td>\n",
       "      <td>NaN</td>\n",
       "      <td>BARBARA</td>\n",
       "      <td>J</td>\n",
       "      <td>HUMPHREY</td>\n",
       "      <td>...</td>\n",
       "      <td>128123539HUMPHREY</td>\n",
       "      <td>128123539HUMPHREY</td>\n",
       "      <td>20200428</td>\n",
       "      <td>NaN</td>\n",
       "      <td>NaN</td>\n",
       "      <td>NaN</td>\n",
       "      <td>Y39394865072945*128123539*001*27-00226.000</td>\n",
       "      <td>2021</td>\n",
       "      <td>1</td>\n",
       "      <td>OH</td>\n",
       "    </tr>\n",
       "    <tr>\n",
       "      <th>1</th>\n",
       "      <td>24718273</td>\n",
       "      <td>Y39394624882489</td>\n",
       "      <td>Y39394624881598</td>\n",
       "      <td>MICHAEL</td>\n",
       "      <td>P</td>\n",
       "      <td>VARLEY</td>\n",
       "      <td>SR</td>\n",
       "      <td>CATHERINE</td>\n",
       "      <td>N</td>\n",
       "      <td>VARLEY</td>\n",
       "      <td>...</td>\n",
       "      <td>234133101VARLEY</td>\n",
       "      <td>234133101VARLEY</td>\n",
       "      <td>20200323</td>\n",
       "      <td>NaN</td>\n",
       "      <td>NaN</td>\n",
       "      <td>NaN</td>\n",
       "      <td>Y39394624882489*234133101*001*01-119050</td>\n",
       "      <td>2021</td>\n",
       "      <td>1</td>\n",
       "      <td>OH</td>\n",
       "    </tr>\n",
       "    <tr>\n",
       "      <th>2</th>\n",
       "      <td>36595605</td>\n",
       "      <td>Y39394802600245</td>\n",
       "      <td>Y39394802656763</td>\n",
       "      <td>LLOYD</td>\n",
       "      <td>R</td>\n",
       "      <td>LEWIS</td>\n",
       "      <td>III</td>\n",
       "      <td>MARGARET</td>\n",
       "      <td>J</td>\n",
       "      <td>LEWIS</td>\n",
       "      <td>...</td>\n",
       "      <td>297089711LEWIS</td>\n",
       "      <td>297089711LEWIS</td>\n",
       "      <td>20200428</td>\n",
       "      <td>NaN</td>\n",
       "      <td>NaN</td>\n",
       "      <td>NaN</td>\n",
       "      <td>Y39394802600245*297089711*001*05-00-035-105-052</td>\n",
       "      <td>2021</td>\n",
       "      <td>1</td>\n",
       "      <td>OH</td>\n",
       "    </tr>\n",
       "    <tr>\n",
       "      <th>3</th>\n",
       "      <td>32802445</td>\n",
       "      <td>Y39398428157394</td>\n",
       "      <td>NaN</td>\n",
       "      <td>SANG</td>\n",
       "      <td>THANH</td>\n",
       "      <td>NGUYEN</td>\n",
       "      <td>NaN</td>\n",
       "      <td>NaN</td>\n",
       "      <td>NaN</td>\n",
       "      <td>NaN</td>\n",
       "      <td>...</td>\n",
       "      <td>3938023NGUYEN</td>\n",
       "      <td>NaN</td>\n",
       "      <td>20200428</td>\n",
       "      <td>NaN</td>\n",
       "      <td>NaN</td>\n",
       "      <td>NaN</td>\n",
       "      <td>Y39398428157394*3938023*001*001-02A-23-221</td>\n",
       "      <td>2021</td>\n",
       "      <td>1</td>\n",
       "      <td>OH</td>\n",
       "    </tr>\n",
       "    <tr>\n",
       "      <th>4</th>\n",
       "      <td>32802611</td>\n",
       "      <td>Y39394912893620</td>\n",
       "      <td>Y39394924119483</td>\n",
       "      <td>MICHAEL</td>\n",
       "      <td>A</td>\n",
       "      <td>SCHROLL</td>\n",
       "      <td>NaN</td>\n",
       "      <td>KRISTEN</td>\n",
       "      <td>E</td>\n",
       "      <td>SCHROLL</td>\n",
       "      <td>...</td>\n",
       "      <td>115078031SCHROLL</td>\n",
       "      <td>115078031SCHROLL</td>\n",
       "      <td>20200428</td>\n",
       "      <td>NaN</td>\n",
       "      <td>NaN</td>\n",
       "      <td>NaN</td>\n",
       "      <td>Y39394912893620*115078031*001*026-06B-11-049</td>\n",
       "      <td>2021</td>\n",
       "      <td>1</td>\n",
       "      <td>OH</td>\n",
       "    </tr>\n",
       "    <tr>\n",
       "      <th>5</th>\n",
       "      <td>32847936</td>\n",
       "      <td>Y39398413301402</td>\n",
       "      <td>N3939BP5VPYTLJGG4GEB</td>\n",
       "      <td>DAVID</td>\n",
       "      <td>NaN</td>\n",
       "      <td>KHOSHTARIYA</td>\n",
       "      <td>NaN</td>\n",
       "      <td>YANA</td>\n",
       "      <td>NaN</td>\n",
       "      <td>KHOSHTARIYA</td>\n",
       "      <td>...</td>\n",
       "      <td>228057110KHOSHTARIYA</td>\n",
       "      <td>228057110KHOSHTARIYA</td>\n",
       "      <td>20200428</td>\n",
       "      <td>NaN</td>\n",
       "      <td>NaN</td>\n",
       "      <td>NaN</td>\n",
       "      <td>Y39398413301402*228057110*001*16-00-010-000-048</td>\n",
       "      <td>2021</td>\n",
       "      <td>1</td>\n",
       "      <td>OH</td>\n",
       "    </tr>\n",
       "    <tr>\n",
       "      <th>6</th>\n",
       "      <td>33924553</td>\n",
       "      <td>N3939IOIWT84O07Z527N</td>\n",
       "      <td>NaN</td>\n",
       "      <td>DANNY</td>\n",
       "      <td>E</td>\n",
       "      <td>TAYLOR</td>\n",
       "      <td>NaN</td>\n",
       "      <td>NaN</td>\n",
       "      <td>NaN</td>\n",
       "      <td>NaN</td>\n",
       "      <td>...</td>\n",
       "      <td>828723140TAYLOR</td>\n",
       "      <td>NaN</td>\n",
       "      <td>20200428</td>\n",
       "      <td>NaN</td>\n",
       "      <td>NaN</td>\n",
       "      <td>NaN</td>\n",
       "      <td>N3939IOIWT84O07Z527N*828723140*001*44-00173.000</td>\n",
       "      <td>2021</td>\n",
       "      <td>1</td>\n",
       "      <td>OH</td>\n",
       "    </tr>\n",
       "    <tr>\n",
       "      <th>7</th>\n",
       "      <td>35348335</td>\n",
       "      <td>N3939VTDSFV0RBINJRHD</td>\n",
       "      <td>N3939DCOCC2Y9Q4TXBVK</td>\n",
       "      <td>NaN</td>\n",
       "      <td>NaN</td>\n",
       "      <td>NaN</td>\n",
       "      <td>NaN</td>\n",
       "      <td>NaN</td>\n",
       "      <td>NaN</td>\n",
       "      <td>NaN</td>\n",
       "      <td>...</td>\n",
       "      <td>NaN</td>\n",
       "      <td>277318142STE</td>\n",
       "      <td>20200428</td>\n",
       "      <td>NaN</td>\n",
       "      <td>NaN</td>\n",
       "      <td>NaN</td>\n",
       "      <td>N3939VTDSFV0RBINJRHD*251250703*001*10-000600.0000</td>\n",
       "      <td>2021</td>\n",
       "      <td>1</td>\n",
       "      <td>OH</td>\n",
       "    </tr>\n",
       "    <tr>\n",
       "      <th>8</th>\n",
       "      <td>49085626</td>\n",
       "      <td>N3939CEBOXFBVCW2ZT63</td>\n",
       "      <td>NaN</td>\n",
       "      <td>NaN</td>\n",
       "      <td>NaN</td>\n",
       "      <td>NaN</td>\n",
       "      <td>NaN</td>\n",
       "      <td>NaN</td>\n",
       "      <td>NaN</td>\n",
       "      <td>NaN</td>\n",
       "      <td>...</td>\n",
       "      <td>NaN</td>\n",
       "      <td>NaN</td>\n",
       "      <td>20200623</td>\n",
       "      <td>NaN</td>\n",
       "      <td>NaN</td>\n",
       "      <td>NaN</td>\n",
       "      <td>N3939CEBOXFBVCW2ZT63*14146339*001*956-25-003</td>\n",
       "      <td>2021</td>\n",
       "      <td>1</td>\n",
       "      <td>OH</td>\n",
       "    </tr>\n",
       "    <tr>\n",
       "      <th>9</th>\n",
       "      <td>134645364</td>\n",
       "      <td>N3939HV4X25XS3E5Q9MB</td>\n",
       "      <td>NaN</td>\n",
       "      <td>NaN</td>\n",
       "      <td>NaN</td>\n",
       "      <td>NaN</td>\n",
       "      <td>NaN</td>\n",
       "      <td>NaN</td>\n",
       "      <td>NaN</td>\n",
       "      <td>NaN</td>\n",
       "      <td>...</td>\n",
       "      <td>NaN</td>\n",
       "      <td>NaN</td>\n",
       "      <td>20201221</td>\n",
       "      <td>NaN</td>\n",
       "      <td>NaN</td>\n",
       "      <td>NaN</td>\n",
       "      <td>N3939HV4X25XS3E5Q9MB*630004482*001*318-432-01-...</td>\n",
       "      <td>2021</td>\n",
       "      <td>1</td>\n",
       "      <td>OH</td>\n",
       "    </tr>\n",
       "  </tbody>\n",
       "</table>\n",
       "<p>10 rows × 223 columns</p>\n",
       "</div>"
      ],
      "text/plain": [
       "          id                   pid                  pid2    fname  mname  \\\n",
       "0   37419674       Y39394865072945       Y39394865935440     RORY      L   \n",
       "1   24718273       Y39394624882489       Y39394624881598  MICHAEL      P   \n",
       "2   36595605       Y39394802600245       Y39394802656763    LLOYD      R   \n",
       "3   32802445       Y39398428157394                   NaN     SANG  THANH   \n",
       "4   32802611       Y39394912893620       Y39394924119483  MICHAEL      A   \n",
       "5   32847936       Y39398413301402  N3939BP5VPYTLJGG4GEB    DAVID    NaN   \n",
       "6   33924553  N3939IOIWT84O07Z527N                   NaN    DANNY      E   \n",
       "7   35348335  N3939VTDSFV0RBINJRHD  N3939DCOCC2Y9Q4TXBVK      NaN    NaN   \n",
       "8   49085626  N3939CEBOXFBVCW2ZT63                   NaN      NaN    NaN   \n",
       "9  134645364  N3939HV4X25XS3E5Q9MB                   NaN      NaN    NaN   \n",
       "\n",
       "         lname suffix     fname2 mname2       lname2  ...  \\\n",
       "0     HUMPHREY    NaN    BARBARA      J     HUMPHREY  ...   \n",
       "1       VARLEY     SR  CATHERINE      N       VARLEY  ...   \n",
       "2        LEWIS    III   MARGARET      J        LEWIS  ...   \n",
       "3       NGUYEN    NaN        NaN    NaN          NaN  ...   \n",
       "4      SCHROLL    NaN    KRISTEN      E      SCHROLL  ...   \n",
       "5  KHOSHTARIYA    NaN       YANA    NaN  KHOSHTARIYA  ...   \n",
       "6       TAYLOR    NaN        NaN    NaN          NaN  ...   \n",
       "7          NaN    NaN        NaN    NaN          NaN  ...   \n",
       "8          NaN    NaN        NaN    NaN          NaN  ...   \n",
       "9          NaN    NaN        NaN    NaN          NaN  ...   \n",
       "\n",
       "                   hhid                 hhid2 internal2  internal3  internal4  \\\n",
       "0     128123539HUMPHREY     128123539HUMPHREY  20200428        NaN        NaN   \n",
       "1       234133101VARLEY       234133101VARLEY  20200323        NaN        NaN   \n",
       "2        297089711LEWIS        297089711LEWIS  20200428        NaN        NaN   \n",
       "3         3938023NGUYEN                   NaN  20200428        NaN        NaN   \n",
       "4      115078031SCHROLL      115078031SCHROLL  20200428        NaN        NaN   \n",
       "5  228057110KHOSHTARIYA  228057110KHOSHTARIYA  20200428        NaN        NaN   \n",
       "6       828723140TAYLOR                   NaN  20200428        NaN        NaN   \n",
       "7                   NaN          277318142STE  20200428        NaN        NaN   \n",
       "8                   NaN                   NaN  20200623        NaN        NaN   \n",
       "9                   NaN                   NaN  20201221        NaN        NaN   \n",
       "\n",
       "   internal5                                            rcd_key  yyyy mm  \\\n",
       "0        NaN         Y39394865072945*128123539*001*27-00226.000  2021  1   \n",
       "1        NaN            Y39394624882489*234133101*001*01-119050  2021  1   \n",
       "2        NaN    Y39394802600245*297089711*001*05-00-035-105-052  2021  1   \n",
       "3        NaN         Y39398428157394*3938023*001*001-02A-23-221  2021  1   \n",
       "4        NaN       Y39394912893620*115078031*001*026-06B-11-049  2021  1   \n",
       "5        NaN    Y39398413301402*228057110*001*16-00-010-000-048  2021  1   \n",
       "6        NaN    N3939IOIWT84O07Z527N*828723140*001*44-00173.000  2021  1   \n",
       "7        NaN  N3939VTDSFV0RBINJRHD*251250703*001*10-000600.0000  2021  1   \n",
       "8        NaN       N3939CEBOXFBVCW2ZT63*14146339*001*956-25-003  2021  1   \n",
       "9        NaN  N3939HV4X25XS3E5Q9MB*630004482*001*318-432-01-...  2021  1   \n",
       "\n",
       "  infutorstate  \n",
       "0           OH  \n",
       "1           OH  \n",
       "2           OH  \n",
       "3           OH  \n",
       "4           OH  \n",
       "5           OH  \n",
       "6           OH  \n",
       "7           OH  \n",
       "8           OH  \n",
       "9           OH  \n",
       "\n",
       "[10 rows x 223 columns]"
      ]
     },
     "execution_count": 4,
     "metadata": {},
     "output_type": "execute_result"
    }
   ],
   "source": [
    "df.head(10)"
   ]
  },
  {
   "cell_type": "code",
   "execution_count": 5,
   "metadata": {},
   "outputs": [
    {
     "data": {
      "text/plain": [
       "OH    100\n",
       "Name: infutorstate, dtype: int64"
      ]
     },
     "execution_count": 5,
     "metadata": {},
     "output_type": "execute_result"
    }
   ],
   "source": [
    "df['infutorstate'].value_counts()"
   ]
  },
  {
   "cell_type": "code",
   "execution_count": 106,
   "metadata": {},
   "outputs": [
    {
     "data": {
      "text/plain": [
       "Y    279\n",
       "N     21\n",
       "Name: prop_rescd, dtype: int64"
      ]
     },
     "execution_count": 106,
     "metadata": {},
     "output_type": "execute_result"
    }
   ],
   "source": [
    "df['prop_rescd'].value_counts()"
   ]
  },
  {
   "cell_type": "markdown",
   "metadata": {},
   "source": [
    "Filter list to residential data"
   ]
  },
  {
   "cell_type": "code",
   "execution_count": 154,
   "metadata": {},
   "outputs": [],
   "source": [
    "df_rescd = df.loc[df['prop_rescd'] == 'Y'].loc[df['state'] == 'OH']"
   ]
  },
  {
   "cell_type": "code",
   "execution_count": 155,
   "metadata": {},
   "outputs": [
    {
     "data": {
      "text/html": [
       "<div>\n",
       "<style scoped>\n",
       "    .dataframe tbody tr th:only-of-type {\n",
       "        vertical-align: middle;\n",
       "    }\n",
       "\n",
       "    .dataframe tbody tr th {\n",
       "        vertical-align: top;\n",
       "    }\n",
       "\n",
       "    .dataframe thead th {\n",
       "        text-align: right;\n",
       "    }\n",
       "</style>\n",
       "<table border=\"1\" class=\"dataframe\">\n",
       "  <thead>\n",
       "    <tr style=\"text-align: right;\">\n",
       "      <th></th>\n",
       "      <th>id</th>\n",
       "      <th>pid</th>\n",
       "      <th>pid2</th>\n",
       "      <th>fname</th>\n",
       "      <th>mname</th>\n",
       "      <th>lname</th>\n",
       "      <th>suffix</th>\n",
       "      <th>fname2</th>\n",
       "      <th>mname2</th>\n",
       "      <th>lname2</th>\n",
       "      <th>...</th>\n",
       "      <th>hhid2</th>\n",
       "      <th>internal2</th>\n",
       "      <th>internal3</th>\n",
       "      <th>internal4</th>\n",
       "      <th>internal5</th>\n",
       "      <th>rcd_key</th>\n",
       "      <th>yyyy</th>\n",
       "      <th>mm</th>\n",
       "      <th>infutorstate</th>\n",
       "      <th>SaleYear</th>\n",
       "    </tr>\n",
       "  </thead>\n",
       "  <tbody>\n",
       "    <tr>\n",
       "      <th>0</th>\n",
       "      <td>48884953</td>\n",
       "      <td>Y39394314226910</td>\n",
       "      <td>NaN</td>\n",
       "      <td>KRISTY</td>\n",
       "      <td>L</td>\n",
       "      <td>KNAUP</td>\n",
       "      <td>NaN</td>\n",
       "      <td>NaN</td>\n",
       "      <td>NaN</td>\n",
       "      <td>NaN</td>\n",
       "      <td>...</td>\n",
       "      <td>NaN</td>\n",
       "      <td>20200623</td>\n",
       "      <td>NaN</td>\n",
       "      <td>NaN</td>\n",
       "      <td>NaN</td>\n",
       "      <td>Y39394314226910*2541323*001*10-375500.0000</td>\n",
       "      <td>2021</td>\n",
       "      <td>1</td>\n",
       "      <td>OH</td>\n",
       "      <td>2008</td>\n",
       "    </tr>\n",
       "    <tr>\n",
       "      <th>2</th>\n",
       "      <td>50114126</td>\n",
       "      <td>Y39394252530995</td>\n",
       "      <td>Y39394395760967</td>\n",
       "      <td>STEPHEN</td>\n",
       "      <td>P</td>\n",
       "      <td>SMITH</td>\n",
       "      <td>NaN</td>\n",
       "      <td>LESLEY</td>\n",
       "      <td>A</td>\n",
       "      <td>SMITH</td>\n",
       "      <td>...</td>\n",
       "      <td>336634343SMITH</td>\n",
       "      <td>20200623</td>\n",
       "      <td>NaN</td>\n",
       "      <td>NaN</td>\n",
       "      <td>NaN</td>\n",
       "      <td>Y39394252530995*336634343*001*481-23-079</td>\n",
       "      <td>2021</td>\n",
       "      <td>1</td>\n",
       "      <td>OH</td>\n",
       "      <td>2011</td>\n",
       "    </tr>\n",
       "    <tr>\n",
       "      <th>3</th>\n",
       "      <td>52645344</td>\n",
       "      <td>Y39394910732302</td>\n",
       "      <td>Y39394275595405</td>\n",
       "      <td>JESSICA</td>\n",
       "      <td>NaN</td>\n",
       "      <td>GRASSI</td>\n",
       "      <td>NaN</td>\n",
       "      <td>MATTHEW</td>\n",
       "      <td>NaN</td>\n",
       "      <td>SIMONETTA</td>\n",
       "      <td>...</td>\n",
       "      <td>580856321SIMONETTA</td>\n",
       "      <td>20200623</td>\n",
       "      <td>NaN</td>\n",
       "      <td>NaN</td>\n",
       "      <td>NaN</td>\n",
       "      <td>Y39394910732302*580856321*001*66-01669</td>\n",
       "      <td>2021</td>\n",
       "      <td>1</td>\n",
       "      <td>OH</td>\n",
       "      <td>2011</td>\n",
       "    </tr>\n",
       "    <tr>\n",
       "      <th>4</th>\n",
       "      <td>53914908</td>\n",
       "      <td>Y39394472796490</td>\n",
       "      <td>Y39394206646174</td>\n",
       "      <td>JOSEPH</td>\n",
       "      <td>A</td>\n",
       "      <td>CALABRESE</td>\n",
       "      <td>NaN</td>\n",
       "      <td>ARETE</td>\n",
       "      <td>A</td>\n",
       "      <td>CALABRESE</td>\n",
       "      <td>...</td>\n",
       "      <td>248422830CALABRESE</td>\n",
       "      <td>20200623</td>\n",
       "      <td>NaN</td>\n",
       "      <td>NaN</td>\n",
       "      <td>NaN</td>\n",
       "      <td>Y39394472796490*248422830*001*33-12756</td>\n",
       "      <td>2021</td>\n",
       "      <td>1</td>\n",
       "      <td>OH</td>\n",
       "      <td>2016</td>\n",
       "    </tr>\n",
       "    <tr>\n",
       "      <th>5</th>\n",
       "      <td>131763972</td>\n",
       "      <td>Y39394691168724</td>\n",
       "      <td>Y39394691167870</td>\n",
       "      <td>FAREED</td>\n",
       "      <td>R</td>\n",
       "      <td>SHAIKH</td>\n",
       "      <td>NaN</td>\n",
       "      <td>NOSHEEN</td>\n",
       "      <td>N</td>\n",
       "      <td>SHAIKH</td>\n",
       "      <td>...</td>\n",
       "      <td>283079833SHAIKH</td>\n",
       "      <td>20201221</td>\n",
       "      <td>NaN</td>\n",
       "      <td>NaN</td>\n",
       "      <td>NaN</td>\n",
       "      <td>Y39394691168724*283079833*001*319-134-06-013-000</td>\n",
       "      <td>2021</td>\n",
       "      <td>1</td>\n",
       "      <td>OH</td>\n",
       "      <td>2010</td>\n",
       "    </tr>\n",
       "    <tr>\n",
       "      <th>6</th>\n",
       "      <td>81073749</td>\n",
       "      <td>Y39398471328266</td>\n",
       "      <td>NaN</td>\n",
       "      <td>LEE</td>\n",
       "      <td>H</td>\n",
       "      <td>CAROL</td>\n",
       "      <td>NaN</td>\n",
       "      <td>NaN</td>\n",
       "      <td>NaN</td>\n",
       "      <td>NaN</td>\n",
       "      <td>...</td>\n",
       "      <td>NaN</td>\n",
       "      <td>20200922</td>\n",
       "      <td>NaN</td>\n",
       "      <td>NaN</td>\n",
       "      <td>NaN</td>\n",
       "      <td>Y39398471328266*311261203*001*010-283836</td>\n",
       "      <td>2021</td>\n",
       "      <td>1</td>\n",
       "      <td>OH</td>\n",
       "      <td>2015</td>\n",
       "    </tr>\n",
       "    <tr>\n",
       "      <th>7</th>\n",
       "      <td>24714269</td>\n",
       "      <td>Y39394489964010</td>\n",
       "      <td>NaN</td>\n",
       "      <td>KEITH</td>\n",
       "      <td>M</td>\n",
       "      <td>BARE</td>\n",
       "      <td>NaN</td>\n",
       "      <td>NaN</td>\n",
       "      <td>NaN</td>\n",
       "      <td>NaN</td>\n",
       "      <td>...</td>\n",
       "      <td>NaN</td>\n",
       "      <td>20200323</td>\n",
       "      <td>NaN</td>\n",
       "      <td>NaN</td>\n",
       "      <td>NaN</td>\n",
       "      <td>Y39394489964010*234893641*001*12-090334</td>\n",
       "      <td>2021</td>\n",
       "      <td>1</td>\n",
       "      <td>OH</td>\n",
       "      <td>2015</td>\n",
       "    </tr>\n",
       "    <tr>\n",
       "      <th>8</th>\n",
       "      <td>82981634</td>\n",
       "      <td>N3939YXYILVOXCUSG6WL</td>\n",
       "      <td>NaN</td>\n",
       "      <td>KLUTSE</td>\n",
       "      <td>NaN</td>\n",
       "      <td>VASTY</td>\n",
       "      <td>NaN</td>\n",
       "      <td>NaN</td>\n",
       "      <td>NaN</td>\n",
       "      <td>NaN</td>\n",
       "      <td>...</td>\n",
       "      <td>NaN</td>\n",
       "      <td>20200922</td>\n",
       "      <td>NaN</td>\n",
       "      <td>NaN</td>\n",
       "      <td>NaN</td>\n",
       "      <td>N3939YXYILVOXCUSG6WL*269385932*001*010-288004</td>\n",
       "      <td>2021</td>\n",
       "      <td>1</td>\n",
       "      <td>OH</td>\n",
       "      <td>2017</td>\n",
       "    </tr>\n",
       "    <tr>\n",
       "      <th>9</th>\n",
       "      <td>29639452</td>\n",
       "      <td>Y39394258585236</td>\n",
       "      <td>N3939UAUWAP5RY1O604K</td>\n",
       "      <td>DONALD</td>\n",
       "      <td>N</td>\n",
       "      <td>HOPE</td>\n",
       "      <td>NaN</td>\n",
       "      <td>JACQUELINE</td>\n",
       "      <td>M</td>\n",
       "      <td>HOPE</td>\n",
       "      <td>...</td>\n",
       "      <td>253987569HOPE</td>\n",
       "      <td>20200428</td>\n",
       "      <td>NaN</td>\n",
       "      <td>NaN</td>\n",
       "      <td>NaN</td>\n",
       "      <td>Y39394258585236*253987569*001*32-010-10-00-054...</td>\n",
       "      <td>2021</td>\n",
       "      <td>1</td>\n",
       "      <td>OH</td>\n",
       "      <td>2007</td>\n",
       "    </tr>\n",
       "    <tr>\n",
       "      <th>10</th>\n",
       "      <td>54339086</td>\n",
       "      <td>Y39394407514144</td>\n",
       "      <td>Y39394407557712</td>\n",
       "      <td>DUSTIN</td>\n",
       "      <td>L</td>\n",
       "      <td>CONRAD</td>\n",
       "      <td>NaN</td>\n",
       "      <td>KRISTI</td>\n",
       "      <td>R</td>\n",
       "      <td>CONRAD</td>\n",
       "      <td>...</td>\n",
       "      <td>58793653CONRAD</td>\n",
       "      <td>20200623</td>\n",
       "      <td>NaN</td>\n",
       "      <td>NaN</td>\n",
       "      <td>NaN</td>\n",
       "      <td>Y39394407514144*58793653*001*05-32305-300</td>\n",
       "      <td>2021</td>\n",
       "      <td>1</td>\n",
       "      <td>OH</td>\n",
       "      <td>2005</td>\n",
       "    </tr>\n",
       "  </tbody>\n",
       "</table>\n",
       "<p>10 rows × 224 columns</p>\n",
       "</div>"
      ],
      "text/plain": [
       "           id                   pid                  pid2    fname mname  \\\n",
       "0    48884953       Y39394314226910                   NaN   KRISTY     L   \n",
       "2    50114126       Y39394252530995       Y39394395760967  STEPHEN     P   \n",
       "3    52645344       Y39394910732302       Y39394275595405  JESSICA   NaN   \n",
       "4    53914908       Y39394472796490       Y39394206646174   JOSEPH     A   \n",
       "5   131763972       Y39394691168724       Y39394691167870   FAREED     R   \n",
       "6    81073749       Y39398471328266                   NaN      LEE     H   \n",
       "7    24714269       Y39394489964010                   NaN    KEITH     M   \n",
       "8    82981634  N3939YXYILVOXCUSG6WL                   NaN   KLUTSE   NaN   \n",
       "9    29639452       Y39394258585236  N3939UAUWAP5RY1O604K   DONALD     N   \n",
       "10   54339086       Y39394407514144       Y39394407557712   DUSTIN     L   \n",
       "\n",
       "        lname suffix      fname2 mname2     lname2  ...               hhid2  \\\n",
       "0       KNAUP    NaN         NaN    NaN        NaN  ...                 NaN   \n",
       "2       SMITH    NaN      LESLEY      A      SMITH  ...      336634343SMITH   \n",
       "3      GRASSI    NaN     MATTHEW    NaN  SIMONETTA  ...  580856321SIMONETTA   \n",
       "4   CALABRESE    NaN       ARETE      A  CALABRESE  ...  248422830CALABRESE   \n",
       "5      SHAIKH    NaN     NOSHEEN      N     SHAIKH  ...     283079833SHAIKH   \n",
       "6       CAROL    NaN         NaN    NaN        NaN  ...                 NaN   \n",
       "7        BARE    NaN         NaN    NaN        NaN  ...                 NaN   \n",
       "8       VASTY    NaN         NaN    NaN        NaN  ...                 NaN   \n",
       "9        HOPE    NaN  JACQUELINE      M       HOPE  ...       253987569HOPE   \n",
       "10     CONRAD    NaN      KRISTI      R     CONRAD  ...      58793653CONRAD   \n",
       "\n",
       "   internal2 internal3  internal4  internal5  \\\n",
       "0   20200623       NaN        NaN        NaN   \n",
       "2   20200623       NaN        NaN        NaN   \n",
       "3   20200623       NaN        NaN        NaN   \n",
       "4   20200623       NaN        NaN        NaN   \n",
       "5   20201221       NaN        NaN        NaN   \n",
       "6   20200922       NaN        NaN        NaN   \n",
       "7   20200323       NaN        NaN        NaN   \n",
       "8   20200922       NaN        NaN        NaN   \n",
       "9   20200428       NaN        NaN        NaN   \n",
       "10  20200623       NaN        NaN        NaN   \n",
       "\n",
       "                                              rcd_key  yyyy mm infutorstate  \\\n",
       "0          Y39394314226910*2541323*001*10-375500.0000  2021  1           OH   \n",
       "2            Y39394252530995*336634343*001*481-23-079  2021  1           OH   \n",
       "3              Y39394910732302*580856321*001*66-01669  2021  1           OH   \n",
       "4              Y39394472796490*248422830*001*33-12756  2021  1           OH   \n",
       "5    Y39394691168724*283079833*001*319-134-06-013-000  2021  1           OH   \n",
       "6            Y39398471328266*311261203*001*010-283836  2021  1           OH   \n",
       "7             Y39394489964010*234893641*001*12-090334  2021  1           OH   \n",
       "8       N3939YXYILVOXCUSG6WL*269385932*001*010-288004  2021  1           OH   \n",
       "9   Y39394258585236*253987569*001*32-010-10-00-054...  2021  1           OH   \n",
       "10          Y39394407514144*58793653*001*05-32305-300  2021  1           OH   \n",
       "\n",
       "   SaleYear  \n",
       "0      2008  \n",
       "2      2011  \n",
       "3      2011  \n",
       "4      2016  \n",
       "5      2010  \n",
       "6      2015  \n",
       "7      2015  \n",
       "8      2017  \n",
       "9      2007  \n",
       "10     2005  \n",
       "\n",
       "[10 rows x 224 columns]"
      ]
     },
     "execution_count": 155,
     "metadata": {},
     "output_type": "execute_result"
    }
   ],
   "source": [
    "df_rescd.head(10)"
   ]
  },
  {
   "cell_type": "code",
   "execution_count": null,
   "metadata": {},
   "outputs": [],
   "source": [
    "df_rescd['prop_apn']"
   ]
  },
  {
   "cell_type": "code",
   "execution_count": 156,
   "metadata": {},
   "outputs": [],
   "source": [
    "df_resc_f = df_rescd[['pid','pid2', 'state', 'city', 'zip', 'vacant', 'prop_ind', 'prop_mobhome', 'prop_style', \n",
    "                      'prop_storiescd', 'prop_qlty', 'prop_bldgcd', 'prop_yrbld', 'prop_mrktval', 'prop_mrkt_landval', 'prop_bldsqft', \\\n",
    "                     'prop_bsmtsqft', 'prop_bedrms', 'prop_fullbaths', 'prop_halfbaths', 'prop_taxamt', \n",
    "                     'prop_saledate', 'prop_lctn_infl','prop_view','prop_extnw','prop_saleamt']].fillna(0)"
   ]
  },
  {
   "cell_type": "code",
   "execution_count": 157,
   "metadata": {},
   "outputs": [],
   "source": [
    "df_resc_type = df_resc_f.astype({'prop_bedrms': 'str', \n",
    "                                'prop_saledate': 'str',\n",
    "                                'prop_yrbld': 'str'})"
   ]
  },
  {
   "cell_type": "code",
   "execution_count": 229,
   "metadata": {},
   "outputs": [],
   "source": [
    "df_resc_type['Year'] = df_resc_type['prop_saledate'].str[:4].astype(str)\n",
    "df_resc_type['SaleYear_month'] = df_resc_type['prop_saledate'].str[:6].astype(str)\n",
    "df_resc_type['Month'] = df_resc_type['prop_saledate'].str.slice(4,6).astype(str)"
   ]
  },
  {
   "cell_type": "code",
   "execution_count": 230,
   "metadata": {},
   "outputs": [
    {
     "data": {
      "text/plain": [
       "Index(['pid', 'pid2', 'state', 'city', 'zip', 'vacant', 'prop_ind',\n",
       "       'prop_mobhome', 'prop_style', 'prop_storiescd', 'prop_qlty',\n",
       "       'prop_bldgcd', 'prop_yrbld', 'prop_mrktval', 'prop_mrkt_landval',\n",
       "       'prop_bldsqft', 'prop_bsmtsqft', 'prop_bedrms', 'prop_fullbaths',\n",
       "       'prop_halfbaths', 'prop_taxamt', 'prop_saledate', 'prop_lctn_infl',\n",
       "       'prop_view', 'prop_extnw', 'prop_saleamt', 'SaleYear', 'SaleYear_int',\n",
       "       'SaleYear_month', 'Salemonth', 'Year', 'Month'],\n",
       "      dtype='object')"
      ]
     },
     "execution_count": 230,
     "metadata": {},
     "output_type": "execute_result"
    }
   ],
   "source": [
    "df_resc_type.columns\n"
   ]
  },
  {
   "cell_type": "code",
   "execution_count": 159,
   "metadata": {},
   "outputs": [
    {
     "data": {
      "text/html": [
       "<div>\n",
       "<style scoped>\n",
       "    .dataframe tbody tr th:only-of-type {\n",
       "        vertical-align: middle;\n",
       "    }\n",
       "\n",
       "    .dataframe tbody tr th {\n",
       "        vertical-align: top;\n",
       "    }\n",
       "\n",
       "    .dataframe thead th {\n",
       "        text-align: right;\n",
       "    }\n",
       "</style>\n",
       "<table border=\"1\" class=\"dataframe\">\n",
       "  <thead>\n",
       "    <tr style=\"text-align: right;\">\n",
       "      <th></th>\n",
       "      <th>prop_mrktval</th>\n",
       "      <th>prop_saleamt</th>\n",
       "    </tr>\n",
       "  </thead>\n",
       "  <tbody>\n",
       "    <tr>\n",
       "      <th>0</th>\n",
       "      <td>71880</td>\n",
       "      <td>73000.0</td>\n",
       "    </tr>\n",
       "    <tr>\n",
       "      <th>2</th>\n",
       "      <td>345200</td>\n",
       "      <td>300874.0</td>\n",
       "    </tr>\n",
       "    <tr>\n",
       "      <th>3</th>\n",
       "      <td>221320</td>\n",
       "      <td>208105.0</td>\n",
       "    </tr>\n",
       "    <tr>\n",
       "      <th>4</th>\n",
       "      <td>199520</td>\n",
       "      <td>280000.0</td>\n",
       "    </tr>\n",
       "    <tr>\n",
       "      <th>5</th>\n",
       "      <td>726300</td>\n",
       "      <td>160000.0</td>\n",
       "    </tr>\n",
       "    <tr>\n",
       "      <th>6</th>\n",
       "      <td>201000</td>\n",
       "      <td>190000.0</td>\n",
       "    </tr>\n",
       "    <tr>\n",
       "      <th>7</th>\n",
       "      <td>330800</td>\n",
       "      <td>329900.0</td>\n",
       "    </tr>\n",
       "    <tr>\n",
       "      <th>8</th>\n",
       "      <td>131400</td>\n",
       "      <td>137200.0</td>\n",
       "    </tr>\n",
       "    <tr>\n",
       "      <th>9</th>\n",
       "      <td>154100</td>\n",
       "      <td>156800.0</td>\n",
       "    </tr>\n",
       "    <tr>\n",
       "      <th>10</th>\n",
       "      <td>175110</td>\n",
       "      <td>166400.0</td>\n",
       "    </tr>\n",
       "  </tbody>\n",
       "</table>\n",
       "</div>"
      ],
      "text/plain": [
       "    prop_mrktval  prop_saleamt\n",
       "0          71880       73000.0\n",
       "2         345200      300874.0\n",
       "3         221320      208105.0\n",
       "4         199520      280000.0\n",
       "5         726300      160000.0\n",
       "6         201000      190000.0\n",
       "7         330800      329900.0\n",
       "8         131400      137200.0\n",
       "9         154100      156800.0\n",
       "10        175110      166400.0"
      ]
     },
     "execution_count": 159,
     "metadata": {},
     "output_type": "execute_result"
    }
   ],
   "source": [
    "df_resc_f[['prop_mrktval', 'prop_saleamt']].head(10)"
   ]
  },
  {
   "cell_type": "code",
   "execution_count": 112,
   "metadata": {},
   "outputs": [
    {
     "data": {
      "text/plain": [
       "0      141\n",
       "COL     40\n",
       "CON     27\n",
       "CND     23\n",
       "RAN     16\n",
       "TWN      9\n",
       "MLL      7\n",
       "MOD      5\n",
       "CNT      4\n",
       "CAP      2\n",
       "BIL      2\n",
       "BUN      1\n",
       "MOB      1\n",
       "RRA      1\n",
       "Name: prop_style, dtype: int64"
      ]
     },
     "execution_count": 112,
     "metadata": {},
     "output_type": "execute_result"
    }
   ],
   "source": [
    "df_resc_f['prop_style'].value_counts()"
   ]
  },
  {
   "cell_type": "code",
   "execution_count": 164,
   "metadata": {},
   "outputs": [],
   "source": [
    "df_g = df_resc_type[['prop_yrbld', 'prop_saleamt', 'prop_mrktval']]\n",
    "\n",
    "df_s = df_g.groupby(by =['prop_yrbld'], as_index = False).mean()\n"
   ]
  },
  {
   "cell_type": "code",
   "execution_count": 30,
   "metadata": {},
   "outputs": [
    {
     "data": {
      "text/plain": [
       "Index(['prop_yrbld', 'prop_saleamt', 'prop_mrktval'], dtype='object')"
      ]
     },
     "execution_count": 30,
     "metadata": {},
     "output_type": "execute_result"
    }
   ],
   "source": [
    "df_s.columns"
   ]
  },
  {
   "cell_type": "markdown",
   "metadata": {},
   "source": [
    "# Comparison of Marketvalue and sales amount across Property Built in Year"
   ]
  },
  {
   "cell_type": "code",
   "execution_count": 165,
   "metadata": {},
   "outputs": [
    {
     "data": {
      "text/plain": [
       "[<matplotlib.lines.Line2D at 0x1a9d37e3ee0>]"
      ]
     },
     "execution_count": 165,
     "metadata": {},
     "output_type": "execute_result"
    },
    {
     "data": {
      "image/png": "[encoded data removed]",
      "text/plain": [
       "<Figure size 792x648 with 2 Axes>"
      ]
     },
     "metadata": {},
     "output_type": "display_data"
    }
   ],
   "source": [
    "fig, ax = plt.subplots(2, figsize=(11, 9))\n",
    "\n",
    "ax[0].plot(df_s['prop_yrbld'], df_s['prop_mrktval'])\n",
    "ax[1].plot(df_s['prop_yrbld'], df_s['prop_saleamt'])"
   ]
  },
  {
   "cell_type": "markdown",
   "metadata": {},
   "source": [
    "# Comparison of Marketvalue, sales amount trends, Tax Amounts"
   ]
  },
  {
   "cell_type": "code",
   "execution_count": 166,
   "metadata": {},
   "outputs": [],
   "source": [
    "df_sd = df_resc_type[['SaleYear', 'prop_saleamt', 'prop_mrktval', 'prop_taxamt']]"
   ]
  },
  {
   "cell_type": "code",
   "execution_count": 167,
   "metadata": {},
   "outputs": [],
   "source": [
    "df_sd_g = df_sd.groupby(by =['SaleYear'], as_index = False).mean()"
   ]
  },
  {
   "cell_type": "code",
   "execution_count": 150,
   "metadata": {},
   "outputs": [
    {
     "data": {
      "text/html": [
       "<div>\n",
       "<style scoped>\n",
       "    .dataframe tbody tr th:only-of-type {\n",
       "        vertical-align: middle;\n",
       "    }\n",
       "\n",
       "    .dataframe tbody tr th {\n",
       "        vertical-align: top;\n",
       "    }\n",
       "\n",
       "    .dataframe thead th {\n",
       "        text-align: right;\n",
       "    }\n",
       "</style>\n",
       "<table border=\"1\" class=\"dataframe\">\n",
       "  <thead>\n",
       "    <tr style=\"text-align: right;\">\n",
       "      <th></th>\n",
       "      <th>prop_saleamt</th>\n",
       "      <th>prop_mrktval</th>\n",
       "      <th>prop_taxamt</th>\n",
       "    </tr>\n",
       "  </thead>\n",
       "  <tbody>\n",
       "    <tr>\n",
       "      <th>count</th>\n",
       "      <td>4.370000e+02</td>\n",
       "      <td>4.370000e+02</td>\n",
       "      <td>4.370000e+02</td>\n",
       "    </tr>\n",
       "    <tr>\n",
       "      <th>mean</th>\n",
       "      <td>3.391124e+05</td>\n",
       "      <td>3.161089e+05</td>\n",
       "      <td>6.036108e+05</td>\n",
       "    </tr>\n",
       "    <tr>\n",
       "      <th>std</th>\n",
       "      <td>4.566840e+05</td>\n",
       "      <td>3.614179e+05</td>\n",
       "      <td>4.901544e+05</td>\n",
       "    </tr>\n",
       "    <tr>\n",
       "      <th>min</th>\n",
       "      <td>0.000000e+00</td>\n",
       "      <td>2.000000e+02</td>\n",
       "      <td>0.000000e+00</td>\n",
       "    </tr>\n",
       "    <tr>\n",
       "      <th>25%</th>\n",
       "      <td>1.470000e+05</td>\n",
       "      <td>1.728000e+05</td>\n",
       "      <td>3.021580e+05</td>\n",
       "    </tr>\n",
       "    <tr>\n",
       "      <th>50%</th>\n",
       "      <td>2.400000e+05</td>\n",
       "      <td>2.426000e+05</td>\n",
       "      <td>4.768670e+05</td>\n",
       "    </tr>\n",
       "    <tr>\n",
       "      <th>75%</th>\n",
       "      <td>3.600000e+05</td>\n",
       "      <td>3.630840e+05</td>\n",
       "      <td>7.394580e+05</td>\n",
       "    </tr>\n",
       "    <tr>\n",
       "      <th>max</th>\n",
       "      <td>5.960000e+06</td>\n",
       "      <td>5.687663e+06</td>\n",
       "      <td>3.636749e+06</td>\n",
       "    </tr>\n",
       "  </tbody>\n",
       "</table>\n",
       "</div>"
      ],
      "text/plain": [
       "       prop_saleamt  prop_mrktval   prop_taxamt\n",
       "count  4.370000e+02  4.370000e+02  4.370000e+02\n",
       "mean   3.391124e+05  3.161089e+05  6.036108e+05\n",
       "std    4.566840e+05  3.614179e+05  4.901544e+05\n",
       "min    0.000000e+00  2.000000e+02  0.000000e+00\n",
       "25%    1.470000e+05  1.728000e+05  3.021580e+05\n",
       "50%    2.400000e+05  2.426000e+05  4.768670e+05\n",
       "75%    3.600000e+05  3.630840e+05  7.394580e+05\n",
       "max    5.960000e+06  5.687663e+06  3.636749e+06"
      ]
     },
     "execution_count": 150,
     "metadata": {},
     "output_type": "execute_result"
    }
   ],
   "source": [
    "df_sd.describe()"
   ]
  },
  {
   "cell_type": "code",
   "execution_count": 244,
   "metadata": {},
   "outputs": [
    {
     "data": {
      "text/plain": [
       "<matplotlib.legend.Legend at 0x1a9d79e1280>"
      ]
     },
     "execution_count": 244,
     "metadata": {},
     "output_type": "execute_result"
    },
    {
     "data": {
      "image/png": "[encoded data removed]",
      "text/plain": [
       "<Figure size 1080x720 with 1 Axes>"
      ]
     },
     "metadata": {},
     "output_type": "display_data"
    }
   ],
   "source": [
    "#plt.xlim(min(df_sd_g['prop_saledate']), max(df_sd_g['prop_saledate'])+1000)\n",
    "fig, ax = plt.subplots(figsize=(15, 10))\n",
    "#plt.ylim(-1, max(df_sd_g['prop_mrktval'])+1000)\n",
    "plt.plot(df_sd_g['SaleYear'], df_sd_g['prop_saleamt'], linestyle = 'solid', color = 'blue', label = 'Sale Amount')\n",
    "plt.plot(df_sd_g['SaleYear'], df_sd_g['prop_mrktval'], linestyle = 'dashed', color = 'green', label = 'Market Value')\n",
    "plt.plot(df_sd_g['SaleYear'], df_sd_g['prop_taxamt'], linestyle = 'dotted', color = 'red', label = 'Tax Amount')\n",
    "ax.legend()"
   ]
  },
  {
   "cell_type": "markdown",
   "metadata": {},
   "source": [
    "# Correlation between variables"
   ]
  },
  {
   "cell_type": "code",
   "execution_count": 169,
   "metadata": {},
   "outputs": [
    {
     "data": {
      "text/plain": [
       "[<matplotlib.lines.Line2D at 0x1a9d39266d0>]"
      ]
     },
     "execution_count": 169,
     "metadata": {},
     "output_type": "execute_result"
    },
    {
     "data": {
      "image/png": "[encoded data removed]",
      "text/plain": [
       "<Figure size 792x1080 with 2 Axes>"
      ]
     },
     "metadata": {},
     "output_type": "display_data"
    }
   ],
   "source": [
    "fig, ax = plt.subplots(2, figsize=(11, 15))\n",
    "plt.style.use('seaborn-whitegrid')\n",
    "ax[0].plot(df_resc_type['prop_taxamt'], df_resc_type['prop_saleamt'], 'o')\n",
    "ax[1].plot(df_resc_type['prop_bedrms'], df_resc_type['prop_saleamt'], 'o')"
   ]
  },
  {
   "cell_type": "code",
   "execution_count": 197,
   "metadata": {},
   "outputs": [
    {
     "data": {
      "text/plain": [
       "<AxesSubplot:xlabel='prop_yrbld', ylabel='prop_saleamt'>"
      ]
     },
     "execution_count": 197,
     "metadata": {},
     "output_type": "execute_result"
    },
    {
     "data": {
      "image/png": "[encoded data removed]",
      "text/plain": [
       "<Figure size 432x288 with 1 Axes>"
      ]
     },
     "metadata": {},
     "output_type": "display_data"
    }
   ],
   "source": [
    "sns.scatterplot(data = df_resc_type, x='prop_yrbld', y ='prop_saleamt')"
   ]
  },
  {
   "cell_type": "markdown",
   "metadata": {},
   "source": [
    "# Data distribution of tax amount and prop sale amount "
   ]
  },
  {
   "cell_type": "code",
   "execution_count": 170,
   "metadata": {},
   "outputs": [
    {
     "data": {
      "text/plain": [
       "<seaborn.axisgrid.JointGrid at 0x1a9d3965790>"
      ]
     },
     "execution_count": 170,
     "metadata": {},
     "output_type": "execute_result"
    },
    {
     "data": {
      "image/png": "[encoded data removed]",
      "text/plain": [
       "<Figure size 432x432 with 3 Axes>"
      ]
     },
     "metadata": {},
     "output_type": "display_data"
    }
   ],
   "source": [
    "#colors = df_resc_f['prop_style']\n",
    "#sizes = df_resc_f['prop_bldsqft']\n",
    "sns.axes_style('white')\n",
    "x = df_resc_f['prop_taxamt']\n",
    "y = df_resc_f['prop_saleamt']\n",
    "sns.jointplot(x = df_resc_type['prop_taxamt'], y = df_resc_type['prop_saleamt'] , data = df_resc_type, kind = 'hex')\n",
    "\n"
   ]
  },
  {
   "cell_type": "code",
   "execution_count": 23,
   "metadata": {},
   "outputs": [
    {
     "data": {
      "text/html": [
       "<div>\n",
       "<style scoped>\n",
       "    .dataframe tbody tr th:only-of-type {\n",
       "        vertical-align: middle;\n",
       "    }\n",
       "\n",
       "    .dataframe tbody tr th {\n",
       "        vertical-align: top;\n",
       "    }\n",
       "\n",
       "    .dataframe thead th {\n",
       "        text-align: right;\n",
       "    }\n",
       "</style>\n",
       "<table border=\"1\" class=\"dataframe\">\n",
       "  <thead>\n",
       "    <tr style=\"text-align: right;\">\n",
       "      <th></th>\n",
       "      <th>prop_bedrms</th>\n",
       "      <th>prop_saleamt</th>\n",
       "      <th>prop_bldsqft</th>\n",
       "    </tr>\n",
       "  </thead>\n",
       "  <tbody>\n",
       "    <tr>\n",
       "      <th>count</th>\n",
       "      <td>77.000000</td>\n",
       "      <td>6.800000e+01</td>\n",
       "      <td>75.000000</td>\n",
       "    </tr>\n",
       "    <tr>\n",
       "      <th>mean</th>\n",
       "      <td>3.376623</td>\n",
       "      <td>2.433792e+05</td>\n",
       "      <td>3698.666667</td>\n",
       "    </tr>\n",
       "    <tr>\n",
       "      <th>std</th>\n",
       "      <td>0.761559</td>\n",
       "      <td>1.923938e+05</td>\n",
       "      <td>2696.005811</td>\n",
       "    </tr>\n",
       "    <tr>\n",
       "      <th>min</th>\n",
       "      <td>1.000000</td>\n",
       "      <td>1.750000e+04</td>\n",
       "      <td>504.000000</td>\n",
       "    </tr>\n",
       "    <tr>\n",
       "      <th>25%</th>\n",
       "      <td>3.000000</td>\n",
       "      <td>1.399500e+05</td>\n",
       "      <td>2298.500000</td>\n",
       "    </tr>\n",
       "    <tr>\n",
       "      <th>50%</th>\n",
       "      <td>3.000000</td>\n",
       "      <td>2.229335e+05</td>\n",
       "      <td>3204.000000</td>\n",
       "    </tr>\n",
       "    <tr>\n",
       "      <th>75%</th>\n",
       "      <td>4.000000</td>\n",
       "      <td>2.858000e+05</td>\n",
       "      <td>4510.000000</td>\n",
       "    </tr>\n",
       "    <tr>\n",
       "      <th>max</th>\n",
       "      <td>6.000000</td>\n",
       "      <td>1.150000e+06</td>\n",
       "      <td>16752.000000</td>\n",
       "    </tr>\n",
       "  </tbody>\n",
       "</table>\n",
       "</div>"
      ],
      "text/plain": [
       "       prop_bedrms  prop_saleamt  prop_bldsqft\n",
       "count    77.000000  6.800000e+01     75.000000\n",
       "mean      3.376623  2.433792e+05   3698.666667\n",
       "std       0.761559  1.923938e+05   2696.005811\n",
       "min       1.000000  1.750000e+04    504.000000\n",
       "25%       3.000000  1.399500e+05   2298.500000\n",
       "50%       3.000000  2.229335e+05   3204.000000\n",
       "75%       4.000000  2.858000e+05   4510.000000\n",
       "max       6.000000  1.150000e+06  16752.000000"
      ]
     },
     "execution_count": 23,
     "metadata": {},
     "output_type": "execute_result"
    }
   ],
   "source": [
    "df_pp.describe()"
   ]
  },
  {
   "cell_type": "code",
   "execution_count": 12,
   "metadata": {},
   "outputs": [],
   "source": [
    "#df_dd1 = df_pp.groupby(by=['prop_bedrms'], as_index = False).sum('prop_saleamt')"
   ]
  },
  {
   "cell_type": "code",
   "execution_count": 13,
   "metadata": {},
   "outputs": [],
   "source": [
    "#df_dd1.describe()"
   ]
  },
  {
   "cell_type": "markdown",
   "metadata": {},
   "source": [
    "# Property Sales by Number of Bedrooms"
   ]
  },
  {
   "cell_type": "code",
   "execution_count": 171,
   "metadata": {},
   "outputs": [
    {
     "data": {
      "text/plain": [
       "<seaborn.axisgrid.FacetGrid at 0x1a9d3a252e0>"
      ]
     },
     "execution_count": 171,
     "metadata": {},
     "output_type": "execute_result"
    },
    {
     "data": {
      "image/png": "[encoded data removed]",
      "text/plain": [
       "<Figure size 427.125x360 with 1 Axes>"
      ]
     },
     "metadata": {},
     "output_type": "display_data"
    }
   ],
   "source": [
    "sns.displot(df_resc_type, x='prop_saleamt', hue = 'prop_bedrms', multiple = \"stack\")"
   ]
  },
  {
   "cell_type": "code",
   "execution_count": 173,
   "metadata": {},
   "outputs": [],
   "source": [
    "#sns.displot(df_resc_type, x='prop_saleamt', hue = 'state', multiple = \"stack\")"
   ]
  },
  {
   "cell_type": "code",
   "execution_count": 174,
   "metadata": {},
   "outputs": [
    {
     "data": {
      "text/plain": [
       "<seaborn.axisgrid.FacetGrid at 0x1a9d3cc6250>"
      ]
     },
     "execution_count": 174,
     "metadata": {},
     "output_type": "execute_result"
    },
    {
     "data": {
      "image/png": "[encoded data removed]",
      "text/plain": [
       "<Figure size 427.125x360 with 1 Axes>"
      ]
     },
     "metadata": {},
     "output_type": "display_data"
    }
   ],
   "source": [
    "sns.displot(df_resc_type, x=\"prop_saleamt\", hue=\"prop_bedrms\", stat=\"probability\")"
   ]
  },
  {
   "cell_type": "code",
   "execution_count": 178,
   "metadata": {},
   "outputs": [
    {
     "data": {
      "text/plain": [
       "<seaborn.axisgrid.FacetGrid at 0x1a9d5aca460>"
      ]
     },
     "execution_count": 178,
     "metadata": {},
     "output_type": "execute_result"
    },
    {
     "data": {
      "image/png": "[encoded data removed]",
      "text/plain": [
       "<Figure size 419.25x360 with 1 Axes>"
      ]
     },
     "metadata": {},
     "output_type": "display_data"
    }
   ],
   "source": [
    "\n",
    "sns.displot(df_resc_type, x= df_resc_type['prop_saleamt'], hue=\"prop_style\", stat=\"density\")"
   ]
  },
  {
   "cell_type": "code",
   "execution_count": 179,
   "metadata": {},
   "outputs": [],
   "source": [
    "df_heat = df_resc_type[['prop_yrbld', 'prop_style', 'prop_saleamt' ]]"
   ]
  },
  {
   "cell_type": "code",
   "execution_count": 180,
   "metadata": {},
   "outputs": [],
   "source": [
    "dd = df_heat.groupby(by =['prop_yrbld', 'prop_style' ]).mean()"
   ]
  },
  {
   "cell_type": "code",
   "execution_count": 181,
   "metadata": {},
   "outputs": [],
   "source": [
    "dd_x = df_heat.drop_duplicates(subset = ['prop_style'])"
   ]
  },
  {
   "cell_type": "code",
   "execution_count": 182,
   "metadata": {},
   "outputs": [],
   "source": [
    "labels = np.array(dd_x['prop_style'])"
   ]
  },
  {
   "cell_type": "code",
   "execution_count": 183,
   "metadata": {},
   "outputs": [],
   "source": [
    "dd1 = dd.unstack(level=1)"
   ]
  },
  {
   "cell_type": "code",
   "execution_count": 142,
   "metadata": {},
   "outputs": [
    {
     "data": {
      "text/html": [
       "<div>\n",
       "<style scoped>\n",
       "    .dataframe tbody tr th:only-of-type {\n",
       "        vertical-align: middle;\n",
       "    }\n",
       "\n",
       "    .dataframe tbody tr th {\n",
       "        vertical-align: top;\n",
       "    }\n",
       "\n",
       "    .dataframe thead tr th {\n",
       "        text-align: left;\n",
       "    }\n",
       "\n",
       "    .dataframe thead tr:last-of-type th {\n",
       "        text-align: right;\n",
       "    }\n",
       "</style>\n",
       "<table border=\"1\" class=\"dataframe\">\n",
       "  <thead>\n",
       "    <tr>\n",
       "      <th></th>\n",
       "      <th colspan=\"18\" halign=\"left\">prop_saleamt</th>\n",
       "    </tr>\n",
       "    <tr>\n",
       "      <th>prop_style</th>\n",
       "      <th>0</th>\n",
       "      <th>BUN</th>\n",
       "      <th>CAP</th>\n",
       "      <th>CND</th>\n",
       "      <th>CNT</th>\n",
       "      <th>COL</th>\n",
       "      <th>CON</th>\n",
       "      <th>CTB</th>\n",
       "      <th>MDR</th>\n",
       "      <th>MLL</th>\n",
       "      <th>MOB</th>\n",
       "      <th>MOD</th>\n",
       "      <th>OLD</th>\n",
       "      <th>RAN</th>\n",
       "      <th>RRA</th>\n",
       "      <th>SPL</th>\n",
       "      <th>TRA</th>\n",
       "      <th>TWN</th>\n",
       "    </tr>\n",
       "    <tr>\n",
       "      <th>prop_yrbld</th>\n",
       "      <th></th>\n",
       "      <th></th>\n",
       "      <th></th>\n",
       "      <th></th>\n",
       "      <th></th>\n",
       "      <th></th>\n",
       "      <th></th>\n",
       "      <th></th>\n",
       "      <th></th>\n",
       "      <th></th>\n",
       "      <th></th>\n",
       "      <th></th>\n",
       "      <th></th>\n",
       "      <th></th>\n",
       "      <th></th>\n",
       "      <th></th>\n",
       "      <th></th>\n",
       "      <th></th>\n",
       "    </tr>\n",
       "  </thead>\n",
       "  <tbody>\n",
       "    <tr>\n",
       "      <th>2005</th>\n",
       "      <td>587127.210526</td>\n",
       "      <td>NaN</td>\n",
       "      <td>NaN</td>\n",
       "      <td>184725.0</td>\n",
       "      <td>72500.0</td>\n",
       "      <td>284707.857143</td>\n",
       "      <td>227078.333333</td>\n",
       "      <td>NaN</td>\n",
       "      <td>82500.0</td>\n",
       "      <td>108500.0</td>\n",
       "      <td>146000.0</td>\n",
       "      <td>368000.0</td>\n",
       "      <td>NaN</td>\n",
       "      <td>181686.230769</td>\n",
       "      <td>NaN</td>\n",
       "      <td>NaN</td>\n",
       "      <td>NaN</td>\n",
       "      <td>83200.0</td>\n",
       "    </tr>\n",
       "    <tr>\n",
       "      <th>2006</th>\n",
       "      <td>573731.625000</td>\n",
       "      <td>NaN</td>\n",
       "      <td>NaN</td>\n",
       "      <td>283850.0</td>\n",
       "      <td>281870.0</td>\n",
       "      <td>287446.153846</td>\n",
       "      <td>124137.500000</td>\n",
       "      <td>NaN</td>\n",
       "      <td>205000.0</td>\n",
       "      <td>494200.0</td>\n",
       "      <td>NaN</td>\n",
       "      <td>NaN</td>\n",
       "      <td>NaN</td>\n",
       "      <td>566903.916667</td>\n",
       "      <td>226600.0</td>\n",
       "      <td>NaN</td>\n",
       "      <td>0.0</td>\n",
       "      <td>193800.0</td>\n",
       "    </tr>\n",
       "    <tr>\n",
       "      <th>2007</th>\n",
       "      <td>410439.714286</td>\n",
       "      <td>NaN</td>\n",
       "      <td>185700.0</td>\n",
       "      <td>163675.0</td>\n",
       "      <td>51500.0</td>\n",
       "      <td>660850.769231</td>\n",
       "      <td>232625.000000</td>\n",
       "      <td>170000.0</td>\n",
       "      <td>NaN</td>\n",
       "      <td>NaN</td>\n",
       "      <td>NaN</td>\n",
       "      <td>330000.0</td>\n",
       "      <td>NaN</td>\n",
       "      <td>205417.200000</td>\n",
       "      <td>NaN</td>\n",
       "      <td>NaN</td>\n",
       "      <td>NaN</td>\n",
       "      <td>NaN</td>\n",
       "    </tr>\n",
       "    <tr>\n",
       "      <th>2008</th>\n",
       "      <td>501877.133333</td>\n",
       "      <td>NaN</td>\n",
       "      <td>NaN</td>\n",
       "      <td>294000.0</td>\n",
       "      <td>432000.0</td>\n",
       "      <td>480215.428571</td>\n",
       "      <td>275050.000000</td>\n",
       "      <td>NaN</td>\n",
       "      <td>NaN</td>\n",
       "      <td>351000.0</td>\n",
       "      <td>NaN</td>\n",
       "      <td>NaN</td>\n",
       "      <td>NaN</td>\n",
       "      <td>279880.000000</td>\n",
       "      <td>NaN</td>\n",
       "      <td>NaN</td>\n",
       "      <td>NaN</td>\n",
       "      <td>280450.0</td>\n",
       "    </tr>\n",
       "    <tr>\n",
       "      <th>2009</th>\n",
       "      <td>270756.800000</td>\n",
       "      <td>33300.0</td>\n",
       "      <td>NaN</td>\n",
       "      <td>137100.0</td>\n",
       "      <td>0.0</td>\n",
       "      <td>240225.000000</td>\n",
       "      <td>327125.000000</td>\n",
       "      <td>NaN</td>\n",
       "      <td>NaN</td>\n",
       "      <td>NaN</td>\n",
       "      <td>36000.0</td>\n",
       "      <td>NaN</td>\n",
       "      <td>32500.0</td>\n",
       "      <td>142686.000000</td>\n",
       "      <td>NaN</td>\n",
       "      <td>NaN</td>\n",
       "      <td>NaN</td>\n",
       "      <td>182536.0</td>\n",
       "    </tr>\n",
       "  </tbody>\n",
       "</table>\n",
       "</div>"
      ],
      "text/plain": [
       "             prop_saleamt                                         \\\n",
       "prop_style              0      BUN       CAP       CND       CNT   \n",
       "prop_yrbld                                                         \n",
       "2005        587127.210526      NaN       NaN  184725.0   72500.0   \n",
       "2006        573731.625000      NaN       NaN  283850.0  281870.0   \n",
       "2007        410439.714286      NaN  185700.0  163675.0   51500.0   \n",
       "2008        501877.133333      NaN       NaN  294000.0  432000.0   \n",
       "2009        270756.800000  33300.0       NaN  137100.0       0.0   \n",
       "\n",
       "                                                                        \\\n",
       "prop_style            COL            CON       CTB       MDR       MLL   \n",
       "prop_yrbld                                                               \n",
       "2005        284707.857143  227078.333333       NaN   82500.0  108500.0   \n",
       "2006        287446.153846  124137.500000       NaN  205000.0  494200.0   \n",
       "2007        660850.769231  232625.000000  170000.0       NaN       NaN   \n",
       "2008        480215.428571  275050.000000       NaN       NaN  351000.0   \n",
       "2009        240225.000000  327125.000000       NaN       NaN       NaN   \n",
       "\n",
       "                                                                           \\\n",
       "prop_style       MOB       MOD      OLD            RAN       RRA SPL  TRA   \n",
       "prop_yrbld                                                                  \n",
       "2005        146000.0  368000.0      NaN  181686.230769       NaN NaN  NaN   \n",
       "2006             NaN       NaN      NaN  566903.916667  226600.0 NaN  0.0   \n",
       "2007             NaN  330000.0      NaN  205417.200000       NaN NaN  NaN   \n",
       "2008             NaN       NaN      NaN  279880.000000       NaN NaN  NaN   \n",
       "2009         36000.0       NaN  32500.0  142686.000000       NaN NaN  NaN   \n",
       "\n",
       "                      \n",
       "prop_style       TWN  \n",
       "prop_yrbld            \n",
       "2005         83200.0  \n",
       "2006        193800.0  \n",
       "2007             NaN  \n",
       "2008        280450.0  \n",
       "2009        182536.0  "
      ]
     },
     "execution_count": 142,
     "metadata": {},
     "output_type": "execute_result"
    }
   ],
   "source": [
    "dd1.head()"
   ]
  },
  {
   "cell_type": "markdown",
   "metadata": {},
   "source": [
    "# Distribution of Housing prices across Property Style and Year Built"
   ]
  },
  {
   "cell_type": "code",
   "execution_count": 184,
   "metadata": {},
   "outputs": [
    {
     "data": {
      "text/plain": [
       "Text(0.5, 64.5, '')"
      ]
     },
     "execution_count": 184,
     "metadata": {},
     "output_type": "execute_result"
    },
    {
     "data": {
      "image/png": "[encoded data removed]",
      "text/plain": [
       "<Figure size 792x648 with 2 Axes>"
      ]
     },
     "metadata": {},
     "output_type": "display_data"
    }
   ],
   "source": [
    "fig, ax = plt.subplots(figsize=(11, 9))\n",
    "sns.heatmap(dd1)\n",
    "ax.xaxis.tick_bottom()\n",
    "xticks_labels = labels\n",
    "plt.xticks(np.arange(len(labels)) + .5, labels=xticks_labels)\n",
    "plt.xlabel('')\n"
   ]
  },
  {
   "cell_type": "markdown",
   "metadata": {},
   "source": [
    "# Regression Model and Model Evaluation"
   ]
  },
  {
   "cell_type": "code",
   "execution_count": 300,
   "metadata": {},
   "outputs": [
    {
     "data": {
      "text/plain": [
       "(0.5357490296632471, 4.274342399806467e-25)"
      ]
     },
     "execution_count": 300,
     "metadata": {},
     "output_type": "execute_result"
    }
   ],
   "source": [
    "stats.pearsonr(df_resc_type['prop_bldsqft'], df_resc_type['prop_saleamt'])\n",
    "\n",
    "stats.pearsonr(df_resc_type['prop_taxamt'], df_resc_type['prop_saleamt'])\n",
    "\n",
    "stats.pearsonr(df_resc_type['prop_taxamt'], df_resc_type['prop_saleamt'])"
   ]
  },
  {
   "cell_type": "code",
   "execution_count": 301,
   "metadata": {},
   "outputs": [],
   "source": [
    "lm = LinearRegression()\n",
    "\n",
    "x = np.array(df_resc_type[['prop_taxamt']])\n",
    "y = np.array(df_resc_type[['prop_saleamt']])\n",
    "\n",
    "xx = np.reshape(x, (319, -1))\n",
    "yy = np.reshape(y, (319,-1))"
   ]
  },
  {
   "cell_type": "code",
   "execution_count": 302,
   "metadata": {},
   "outputs": [
    {
     "data": {
      "text/plain": [
       "LinearRegression()"
      ]
     },
     "execution_count": 302,
     "metadata": {},
     "output_type": "execute_result"
    }
   ],
   "source": [
    "lm.fit(xx,yy)"
   ]
  },
  {
   "cell_type": "code",
   "execution_count": 303,
   "metadata": {},
   "outputs": [
    {
     "data": {
      "text/plain": [
       "23776485042.323864"
      ]
     },
     "execution_count": 303,
     "metadata": {},
     "output_type": "execute_result"
    }
   ],
   "source": [
    "yhat = lm.predict(xx)\n",
    "\n",
    "mean_squared_error(yy, yhat)"
   ]
  },
  {
   "cell_type": "code",
   "execution_count": 304,
   "metadata": {},
   "outputs": [
    {
     "data": {
      "text/plain": [
       "array([[0.24304408]])"
      ]
     },
     "execution_count": 304,
     "metadata": {},
     "output_type": "execute_result"
    }
   ],
   "source": [
    "lm.coef_"
   ]
  },
  {
   "cell_type": "code",
   "execution_count": 305,
   "metadata": {},
   "outputs": [
    {
     "data": {
      "text/plain": [
       "array([103099.51487845])"
      ]
     },
     "execution_count": 305,
     "metadata": {},
     "output_type": "execute_result"
    }
   ],
   "source": [
    "lm.intercept_ "
   ]
  },
  {
   "cell_type": "code",
   "execution_count": 306,
   "metadata": {},
   "outputs": [
    {
     "data": {
      "text/plain": [
       "1.0"
      ]
     },
     "execution_count": 306,
     "metadata": {},
     "output_type": "execute_result"
    }
   ],
   "source": [
    "lm.score(xx,yhat)"
   ]
  },
  {
   "cell_type": "code",
   "execution_count": null,
   "metadata": {},
   "outputs": [],
   "source": []
  }
 ],
 "metadata": {
  "kernelspec": {
   "display_name": "Python 3",
   "language": "python",
   "name": "python3"
  },
  "language_info": {
   "codemirror_mode": {
    "name": "ipython",
    "version": 3
   },
   "file_extension": ".py",
   "mimetype": "text/x-python",
   "name": "python",
   "nbconvert_exporter": "python",
   "pygments_lexer": "ipython3",
   "version": "3.8.5"
  }
 },
 "nbformat": 4,
 "nbformat_minor": 4
}
